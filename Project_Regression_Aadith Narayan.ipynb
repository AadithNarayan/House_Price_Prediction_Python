{
 "cells": [
  {
   "cell_type": "markdown",
   "metadata": {},
   "source": [
    "<h1>Project 2- Regression </h1>"
   ]
  },
  {
   "cell_type": "markdown",
   "metadata": {},
   "source": [
    "# Group 15\n",
    "## Aadith Narayan Ravishankar AXR180085\n",
    "## Mohanram Balaji Senthil Kumar MXS180135\n"
   ]
  },
  {
   "cell_type": "markdown",
   "metadata": {},
   "source": [
    "Source: random sample of 1734 houses taken from full Saratoga Housing Data (De Veaux) Number of Cases: 1734 Story: House prices and properties in New York. What properties of a house can predict its price? Can we use such a model to identify houses that are extraordinarily expensive or inexpensive?\n",
    "\n",
    "Data Description,\n",
    "\n",
    "<ol>\n",
    "    <li>price price (1000s of US dollars)</li> \n",
    "<li>lotSize size of lot (square feet)</li> \n",
    "<li>age age of house (years) </li>\n",
    "<li>landValue value of land (1000s of US dollars) </li>\n",
    "<li>livingArea living area (square feet) </li>\n",
    "<li>pctCollege percent of neighborhood that graduated college </li>\n",
    "<li>bedrooms number of bedrooms </li>\n",
    "<li>firplaces number of fireplaces </li>\n",
    "<li>bathrooms number of bathrooms (half bathrooms have no shower or tub) </li>\n",
    "<li>rooms number of rooms </li>\n",
    "<li>heating type of heating system </li>\n",
    "<li>fuel fuel used for heating</li>\n",
    "<li>sewer type of sewer system </li>\n",
    "<li>waterfront whether property includes waterfront </li>\n",
    "<li>newConstruction whether the property is a new construction </li>\n",
    "<li>centralAir whether the house has central air</li>\n",
    "    </ol>"
   ]
  },
  {
   "cell_type": "markdown",
   "metadata": {},
   "source": [
    "<h2>Pre-Processing of the dataset </h2>"
   ]
  },
  {
   "cell_type": "markdown",
   "metadata": {},
   "source": [
    "<h3> Exploratory Data Analysis </h3>"
   ]
  },
  {
   "cell_type": "code",
   "execution_count": 4,
   "metadata": {},
   "outputs": [],
   "source": [
    "import pandas as pd\n",
    "import numpy as np\n",
    "import matplotlib.pyplot as plt"
   ]
  },
  {
   "cell_type": "code",
   "execution_count": null,
   "metadata": {},
   "outputs": [],
   "source": []
  },
  {
   "cell_type": "code",
   "execution_count": 5,
   "metadata": {},
   "outputs": [],
   "source": [
    "house=pd.read_csv(\"house.csv\")"
   ]
  },
  {
   "cell_type": "code",
   "execution_count": 6,
   "metadata": {},
   "outputs": [
    {
     "data": {
      "text/html": [
       "<div>\n",
       "<style scoped>\n",
       "    .dataframe tbody tr th:only-of-type {\n",
       "        vertical-align: middle;\n",
       "    }\n",
       "\n",
       "    .dataframe tbody tr th {\n",
       "        vertical-align: top;\n",
       "    }\n",
       "\n",
       "    .dataframe thead th {\n",
       "        text-align: right;\n",
       "    }\n",
       "</style>\n",
       "<table border=\"1\" class=\"dataframe\">\n",
       "  <thead>\n",
       "    <tr style=\"text-align: right;\">\n",
       "      <th></th>\n",
       "      <th>Price</th>\n",
       "      <th>Lot.Size</th>\n",
       "      <th>Waterfront</th>\n",
       "      <th>Age</th>\n",
       "      <th>Land.Value</th>\n",
       "      <th>New.Construct</th>\n",
       "      <th>Central.Air</th>\n",
       "      <th>Fuel.Type</th>\n",
       "      <th>Heat.Type</th>\n",
       "      <th>Sewer.Type</th>\n",
       "      <th>Living.Area</th>\n",
       "      <th>Pct.College</th>\n",
       "      <th>Bedrooms</th>\n",
       "      <th>Fireplaces</th>\n",
       "      <th>Bathrooms</th>\n",
       "      <th>Rooms</th>\n",
       "      <th>Test</th>\n",
       "    </tr>\n",
       "  </thead>\n",
       "  <tbody>\n",
       "    <tr>\n",
       "      <th>0</th>\n",
       "      <td>311000</td>\n",
       "      <td>0.46</td>\n",
       "      <td>0</td>\n",
       "      <td>17.0</td>\n",
       "      <td>60500</td>\n",
       "      <td>0</td>\n",
       "      <td>1</td>\n",
       "      <td>Gas</td>\n",
       "      <td>Hot Water</td>\n",
       "      <td>Public</td>\n",
       "      <td>2762</td>\n",
       "      <td>63.0</td>\n",
       "      <td>4</td>\n",
       "      <td>1.0</td>\n",
       "      <td>2.5</td>\n",
       "      <td>8.0</td>\n",
       "      <td>1</td>\n",
       "    </tr>\n",
       "    <tr>\n",
       "      <th>1</th>\n",
       "      <td>182000</td>\n",
       "      <td>0.02</td>\n",
       "      <td>0</td>\n",
       "      <td>32.0</td>\n",
       "      <td>22500</td>\n",
       "      <td>0</td>\n",
       "      <td>0</td>\n",
       "      <td>Electric</td>\n",
       "      <td>Electric</td>\n",
       "      <td>Private</td>\n",
       "      <td>1753</td>\n",
       "      <td>35.0</td>\n",
       "      <td>3</td>\n",
       "      <td>0.0</td>\n",
       "      <td>1.5</td>\n",
       "      <td>5.0</td>\n",
       "      <td>1</td>\n",
       "    </tr>\n",
       "    <tr>\n",
       "      <th>2</th>\n",
       "      <td>297900</td>\n",
       "      <td>0.30</td>\n",
       "      <td>0</td>\n",
       "      <td>15.0</td>\n",
       "      <td>34000</td>\n",
       "      <td>0</td>\n",
       "      <td>1</td>\n",
       "      <td>Gas</td>\n",
       "      <td>Hot Air</td>\n",
       "      <td>Public</td>\n",
       "      <td>2288</td>\n",
       "      <td>64.0</td>\n",
       "      <td>3</td>\n",
       "      <td>1.0</td>\n",
       "      <td>2.5</td>\n",
       "      <td>8.0</td>\n",
       "      <td>1</td>\n",
       "    </tr>\n",
       "    <tr>\n",
       "      <th>3</th>\n",
       "      <td>210000</td>\n",
       "      <td>0.49</td>\n",
       "      <td>0</td>\n",
       "      <td>15.0</td>\n",
       "      <td>25000</td>\n",
       "      <td>0</td>\n",
       "      <td>0</td>\n",
       "      <td>Gas</td>\n",
       "      <td>Hot Air</td>\n",
       "      <td>NaN</td>\n",
       "      <td>1592</td>\n",
       "      <td>54.0</td>\n",
       "      <td>3</td>\n",
       "      <td>1.0</td>\n",
       "      <td>1.5</td>\n",
       "      <td>8.0</td>\n",
       "      <td>0</td>\n",
       "    </tr>\n",
       "    <tr>\n",
       "      <th>4</th>\n",
       "      <td>130000</td>\n",
       "      <td>0.16</td>\n",
       "      <td>0</td>\n",
       "      <td>36.0</td>\n",
       "      <td>54900</td>\n",
       "      <td>0</td>\n",
       "      <td>0</td>\n",
       "      <td>Gas</td>\n",
       "      <td>Hot Air</td>\n",
       "      <td>Public</td>\n",
       "      <td>1134</td>\n",
       "      <td>57.0</td>\n",
       "      <td>3</td>\n",
       "      <td>0.0</td>\n",
       "      <td>1.0</td>\n",
       "      <td>4.0</td>\n",
       "      <td>0</td>\n",
       "    </tr>\n",
       "  </tbody>\n",
       "</table>\n",
       "</div>"
      ],
      "text/plain": [
       "    Price  Lot.Size  Waterfront   Age  Land.Value  New.Construct  Central.Air  \\\n",
       "0  311000      0.46           0  17.0       60500              0            1   \n",
       "1  182000      0.02           0  32.0       22500              0            0   \n",
       "2  297900      0.30           0  15.0       34000              0            1   \n",
       "3  210000      0.49           0  15.0       25000              0            0   \n",
       "4  130000      0.16           0  36.0       54900              0            0   \n",
       "\n",
       "  Fuel.Type  Heat.Type Sewer.Type  Living.Area  Pct.College  Bedrooms  \\\n",
       "0       Gas  Hot Water     Public         2762         63.0         4   \n",
       "1  Electric   Electric    Private         1753         35.0         3   \n",
       "2       Gas    Hot Air     Public         2288         64.0         3   \n",
       "3       Gas    Hot Air        NaN         1592         54.0         3   \n",
       "4       Gas    Hot Air     Public         1134         57.0         3   \n",
       "\n",
       "   Fireplaces  Bathrooms  Rooms  Test  \n",
       "0         1.0        2.5    8.0     1  \n",
       "1         0.0        1.5    5.0     1  \n",
       "2         1.0        2.5    8.0     1  \n",
       "3         1.0        1.5    8.0     0  \n",
       "4         0.0        1.0    4.0     0  "
      ]
     },
     "execution_count": 6,
     "metadata": {},
     "output_type": "execute_result"
    }
   ],
   "source": [
    "house.head()"
   ]
  },
  {
   "cell_type": "code",
   "execution_count": 7,
   "metadata": {},
   "outputs": [],
   "source": [
    "df=pd.DataFrame(house)"
   ]
  },
  {
   "cell_type": "code",
   "execution_count": 8,
   "metadata": {},
   "outputs": [
    {
     "name": "stdout",
     "output_type": "stream",
     "text": [
      "<class 'pandas.core.frame.DataFrame'>\n",
      "RangeIndex: 1734 entries, 0 to 1733\n",
      "Data columns (total 17 columns):\n",
      " #   Column         Non-Null Count  Dtype  \n",
      "---  ------         --------------  -----  \n",
      " 0   Price          1734 non-null   int64  \n",
      " 1   Lot.Size       1734 non-null   float64\n",
      " 2   Waterfront     1734 non-null   int64  \n",
      " 3   Age            1713 non-null   float64\n",
      " 4   Land.Value     1734 non-null   int64  \n",
      " 5   New.Construct  1734 non-null   int64  \n",
      " 6   Central.Air    1734 non-null   int64  \n",
      " 7   Fuel.Type      1734 non-null   object \n",
      " 8   Heat.Type      1734 non-null   object \n",
      " 9   Sewer.Type     1709 non-null   object \n",
      " 10  Living.Area    1734 non-null   int64  \n",
      " 11  Pct.College    1712 non-null   float64\n",
      " 12  Bedrooms       1734 non-null   int64  \n",
      " 13  Fireplaces     1724 non-null   float64\n",
      " 14  Bathrooms      1734 non-null   float64\n",
      " 15  Rooms          1720 non-null   float64\n",
      " 16  Test           1734 non-null   int64  \n",
      "dtypes: float64(6), int64(8), object(3)\n",
      "memory usage: 230.4+ KB\n"
     ]
    }
   ],
   "source": [
    "df.info()"
   ]
  },
  {
   "cell_type": "code",
   "execution_count": 9,
   "metadata": {},
   "outputs": [
    {
     "data": {
      "text/plain": [
       "Price             0\n",
       "Lot.Size          0\n",
       "Waterfront        0\n",
       "Age              21\n",
       "Land.Value        0\n",
       "New.Construct     0\n",
       "Central.Air       0\n",
       "Fuel.Type         0\n",
       "Heat.Type         0\n",
       "Sewer.Type       25\n",
       "Living.Area       0\n",
       "Pct.College      22\n",
       "Bedrooms          0\n",
       "Fireplaces       10\n",
       "Bathrooms         0\n",
       "Rooms            14\n",
       "Test              0\n",
       "dtype: int64"
      ]
     },
     "execution_count": 9,
     "metadata": {},
     "output_type": "execute_result"
    }
   ],
   "source": [
    "df.isnull().sum()"
   ]
  },
  {
   "cell_type": "code",
   "execution_count": 10,
   "metadata": {},
   "outputs": [
    {
     "data": {
      "text/html": [
       "<div>\n",
       "<style scoped>\n",
       "    .dataframe tbody tr th:only-of-type {\n",
       "        vertical-align: middle;\n",
       "    }\n",
       "\n",
       "    .dataframe tbody tr th {\n",
       "        vertical-align: top;\n",
       "    }\n",
       "\n",
       "    .dataframe thead th {\n",
       "        text-align: right;\n",
       "    }\n",
       "</style>\n",
       "<table border=\"1\" class=\"dataframe\">\n",
       "  <thead>\n",
       "    <tr style=\"text-align: right;\">\n",
       "      <th></th>\n",
       "      <th>Price</th>\n",
       "      <th>Lot.Size</th>\n",
       "      <th>Waterfront</th>\n",
       "      <th>Age</th>\n",
       "      <th>Land.Value</th>\n",
       "      <th>New.Construct</th>\n",
       "      <th>Central.Air</th>\n",
       "      <th>Living.Area</th>\n",
       "      <th>Pct.College</th>\n",
       "      <th>Bedrooms</th>\n",
       "      <th>Fireplaces</th>\n",
       "      <th>Bathrooms</th>\n",
       "      <th>Rooms</th>\n",
       "      <th>Test</th>\n",
       "    </tr>\n",
       "  </thead>\n",
       "  <tbody>\n",
       "    <tr>\n",
       "      <th>count</th>\n",
       "      <td>1734.000000</td>\n",
       "      <td>1734.000000</td>\n",
       "      <td>1734.000000</td>\n",
       "      <td>1713.000000</td>\n",
       "      <td>1734.000000</td>\n",
       "      <td>1734.000000</td>\n",
       "      <td>1734.000000</td>\n",
       "      <td>1734.000000</td>\n",
       "      <td>1712.000000</td>\n",
       "      <td>1734.000000</td>\n",
       "      <td>1724.000000</td>\n",
       "      <td>1734.000000</td>\n",
       "      <td>1720.000000</td>\n",
       "      <td>1734.000000</td>\n",
       "    </tr>\n",
       "    <tr>\n",
       "      <th>mean</th>\n",
       "      <td>211545.054210</td>\n",
       "      <td>0.500294</td>\n",
       "      <td>0.008651</td>\n",
       "      <td>28.201985</td>\n",
       "      <td>34536.228374</td>\n",
       "      <td>0.046713</td>\n",
       "      <td>0.366205</td>\n",
       "      <td>1752.630911</td>\n",
       "      <td>55.639019</td>\n",
       "      <td>3.151672</td>\n",
       "      <td>0.600348</td>\n",
       "      <td>1.898501</td>\n",
       "      <td>7.031395</td>\n",
       "      <td>0.414648</td>\n",
       "    </tr>\n",
       "    <tr>\n",
       "      <th>std</th>\n",
       "      <td>98553.809581</td>\n",
       "      <td>0.698201</td>\n",
       "      <td>0.092632</td>\n",
       "      <td>29.687785</td>\n",
       "      <td>34980.940615</td>\n",
       "      <td>0.211084</td>\n",
       "      <td>0.481905</td>\n",
       "      <td>620.224953</td>\n",
       "      <td>10.309385</td>\n",
       "      <td>0.817830</td>\n",
       "      <td>0.556521</td>\n",
       "      <td>0.658355</td>\n",
       "      <td>2.322250</td>\n",
       "      <td>0.492803</td>\n",
       "    </tr>\n",
       "    <tr>\n",
       "      <th>min</th>\n",
       "      <td>5000.000000</td>\n",
       "      <td>0.000000</td>\n",
       "      <td>0.000000</td>\n",
       "      <td>0.000000</td>\n",
       "      <td>200.000000</td>\n",
       "      <td>0.000000</td>\n",
       "      <td>0.000000</td>\n",
       "      <td>616.000000</td>\n",
       "      <td>20.000000</td>\n",
       "      <td>1.000000</td>\n",
       "      <td>0.000000</td>\n",
       "      <td>0.000000</td>\n",
       "      <td>2.000000</td>\n",
       "      <td>0.000000</td>\n",
       "    </tr>\n",
       "    <tr>\n",
       "      <th>25%</th>\n",
       "      <td>145000.000000</td>\n",
       "      <td>0.170000</td>\n",
       "      <td>0.000000</td>\n",
       "      <td>13.000000</td>\n",
       "      <td>15100.000000</td>\n",
       "      <td>0.000000</td>\n",
       "      <td>0.000000</td>\n",
       "      <td>1300.000000</td>\n",
       "      <td>52.000000</td>\n",
       "      <td>3.000000</td>\n",
       "      <td>0.000000</td>\n",
       "      <td>1.500000</td>\n",
       "      <td>5.000000</td>\n",
       "      <td>0.000000</td>\n",
       "    </tr>\n",
       "    <tr>\n",
       "      <th>50%</th>\n",
       "      <td>189700.000000</td>\n",
       "      <td>0.370000</td>\n",
       "      <td>0.000000</td>\n",
       "      <td>19.000000</td>\n",
       "      <td>25000.000000</td>\n",
       "      <td>0.000000</td>\n",
       "      <td>0.000000</td>\n",
       "      <td>1632.000000</td>\n",
       "      <td>57.000000</td>\n",
       "      <td>3.000000</td>\n",
       "      <td>1.000000</td>\n",
       "      <td>2.000000</td>\n",
       "      <td>7.000000</td>\n",
       "      <td>0.000000</td>\n",
       "    </tr>\n",
       "    <tr>\n",
       "      <th>75%</th>\n",
       "      <td>257289.500000</td>\n",
       "      <td>0.540000</td>\n",
       "      <td>0.000000</td>\n",
       "      <td>34.000000</td>\n",
       "      <td>40200.000000</td>\n",
       "      <td>0.000000</td>\n",
       "      <td>1.000000</td>\n",
       "      <td>2133.500000</td>\n",
       "      <td>64.000000</td>\n",
       "      <td>4.000000</td>\n",
       "      <td>1.000000</td>\n",
       "      <td>2.500000</td>\n",
       "      <td>8.000000</td>\n",
       "      <td>1.000000</td>\n",
       "    </tr>\n",
       "    <tr>\n",
       "      <th>max</th>\n",
       "      <td>775000.000000</td>\n",
       "      <td>12.200000</td>\n",
       "      <td>1.000000</td>\n",
       "      <td>225.000000</td>\n",
       "      <td>412600.000000</td>\n",
       "      <td>1.000000</td>\n",
       "      <td>1.000000</td>\n",
       "      <td>5228.000000</td>\n",
       "      <td>82.000000</td>\n",
       "      <td>7.000000</td>\n",
       "      <td>4.000000</td>\n",
       "      <td>4.500000</td>\n",
       "      <td>12.000000</td>\n",
       "      <td>1.000000</td>\n",
       "    </tr>\n",
       "  </tbody>\n",
       "</table>\n",
       "</div>"
      ],
      "text/plain": [
       "               Price     Lot.Size   Waterfront          Age     Land.Value  \\\n",
       "count    1734.000000  1734.000000  1734.000000  1713.000000    1734.000000   \n",
       "mean   211545.054210     0.500294     0.008651    28.201985   34536.228374   \n",
       "std     98553.809581     0.698201     0.092632    29.687785   34980.940615   \n",
       "min      5000.000000     0.000000     0.000000     0.000000     200.000000   \n",
       "25%    145000.000000     0.170000     0.000000    13.000000   15100.000000   \n",
       "50%    189700.000000     0.370000     0.000000    19.000000   25000.000000   \n",
       "75%    257289.500000     0.540000     0.000000    34.000000   40200.000000   \n",
       "max    775000.000000    12.200000     1.000000   225.000000  412600.000000   \n",
       "\n",
       "       New.Construct  Central.Air  Living.Area  Pct.College     Bedrooms  \\\n",
       "count    1734.000000  1734.000000  1734.000000  1712.000000  1734.000000   \n",
       "mean        0.046713     0.366205  1752.630911    55.639019     3.151672   \n",
       "std         0.211084     0.481905   620.224953    10.309385     0.817830   \n",
       "min         0.000000     0.000000   616.000000    20.000000     1.000000   \n",
       "25%         0.000000     0.000000  1300.000000    52.000000     3.000000   \n",
       "50%         0.000000     0.000000  1632.000000    57.000000     3.000000   \n",
       "75%         0.000000     1.000000  2133.500000    64.000000     4.000000   \n",
       "max         1.000000     1.000000  5228.000000    82.000000     7.000000   \n",
       "\n",
       "        Fireplaces    Bathrooms        Rooms         Test  \n",
       "count  1724.000000  1734.000000  1720.000000  1734.000000  \n",
       "mean      0.600348     1.898501     7.031395     0.414648  \n",
       "std       0.556521     0.658355     2.322250     0.492803  \n",
       "min       0.000000     0.000000     2.000000     0.000000  \n",
       "25%       0.000000     1.500000     5.000000     0.000000  \n",
       "50%       1.000000     2.000000     7.000000     0.000000  \n",
       "75%       1.000000     2.500000     8.000000     1.000000  \n",
       "max       4.000000     4.500000    12.000000     1.000000  "
      ]
     },
     "execution_count": 10,
     "metadata": {},
     "output_type": "execute_result"
    }
   ],
   "source": [
    "df.describe()"
   ]
  },
  {
   "cell_type": "code",
   "execution_count": 11,
   "metadata": {},
   "outputs": [],
   "source": [
    "df.drop('Test',axis=1,inplace=True)"
   ]
  },
  {
   "cell_type": "markdown",
   "metadata": {},
   "source": [
    "<h3> Imputing Null values in the dataset </h3>"
   ]
  },
  {
   "cell_type": "code",
   "execution_count": 12,
   "metadata": {},
   "outputs": [],
   "source": [
    "df['Age']=df[['Age']].transform(lambda x: x.fillna(int(x.median())))"
   ]
  },
  {
   "cell_type": "code",
   "execution_count": 13,
   "metadata": {},
   "outputs": [
    {
     "data": {
      "text/plain": [
       "array(['Public', 'Private', nan, 'None/Unknown'], dtype=object)"
      ]
     },
     "execution_count": 13,
     "metadata": {},
     "output_type": "execute_result"
    }
   ],
   "source": [
    "df['Sewer.Type'].unique()"
   ]
  },
  {
   "cell_type": "code",
   "execution_count": 14,
   "metadata": {},
   "outputs": [],
   "source": [
    "df['Sewer.Type']=df[['Sewer.Type']].transform(lambda x: x.fillna('None/Unknown'))"
   ]
  },
  {
   "cell_type": "code",
   "execution_count": 15,
   "metadata": {},
   "outputs": [
    {
     "data": {
      "text/html": [
       "<div>\n",
       "<style scoped>\n",
       "    .dataframe tbody tr th:only-of-type {\n",
       "        vertical-align: middle;\n",
       "    }\n",
       "\n",
       "    .dataframe tbody tr th {\n",
       "        vertical-align: top;\n",
       "    }\n",
       "\n",
       "    .dataframe thead th {\n",
       "        text-align: right;\n",
       "    }\n",
       "</style>\n",
       "<table border=\"1\" class=\"dataframe\">\n",
       "  <thead>\n",
       "    <tr style=\"text-align: right;\">\n",
       "      <th></th>\n",
       "      <th>Price</th>\n",
       "      <th>Lot.Size</th>\n",
       "      <th>Waterfront</th>\n",
       "      <th>Age</th>\n",
       "      <th>Land.Value</th>\n",
       "      <th>New.Construct</th>\n",
       "      <th>Central.Air</th>\n",
       "      <th>Living.Area</th>\n",
       "      <th>Pct.College</th>\n",
       "      <th>Bedrooms</th>\n",
       "      <th>Fireplaces</th>\n",
       "      <th>Bathrooms</th>\n",
       "      <th>Rooms</th>\n",
       "    </tr>\n",
       "  </thead>\n",
       "  <tbody>\n",
       "    <tr>\n",
       "      <th>count</th>\n",
       "      <td>1734.000000</td>\n",
       "      <td>1734.000000</td>\n",
       "      <td>1734.000000</td>\n",
       "      <td>1734.000000</td>\n",
       "      <td>1734.000000</td>\n",
       "      <td>1734.000000</td>\n",
       "      <td>1734.000000</td>\n",
       "      <td>1734.000000</td>\n",
       "      <td>1712.000000</td>\n",
       "      <td>1734.000000</td>\n",
       "      <td>1724.000000</td>\n",
       "      <td>1734.000000</td>\n",
       "      <td>1720.000000</td>\n",
       "    </tr>\n",
       "    <tr>\n",
       "      <th>mean</th>\n",
       "      <td>211545.054210</td>\n",
       "      <td>0.500294</td>\n",
       "      <td>0.008651</td>\n",
       "      <td>28.090542</td>\n",
       "      <td>34536.228374</td>\n",
       "      <td>0.046713</td>\n",
       "      <td>0.366205</td>\n",
       "      <td>1752.630911</td>\n",
       "      <td>55.639019</td>\n",
       "      <td>3.151672</td>\n",
       "      <td>0.600348</td>\n",
       "      <td>1.898501</td>\n",
       "      <td>7.031395</td>\n",
       "    </tr>\n",
       "    <tr>\n",
       "      <th>std</th>\n",
       "      <td>98553.809581</td>\n",
       "      <td>0.698201</td>\n",
       "      <td>0.092632</td>\n",
       "      <td>29.524534</td>\n",
       "      <td>34980.940615</td>\n",
       "      <td>0.211084</td>\n",
       "      <td>0.481905</td>\n",
       "      <td>620.224953</td>\n",
       "      <td>10.309385</td>\n",
       "      <td>0.817830</td>\n",
       "      <td>0.556521</td>\n",
       "      <td>0.658355</td>\n",
       "      <td>2.322250</td>\n",
       "    </tr>\n",
       "    <tr>\n",
       "      <th>min</th>\n",
       "      <td>5000.000000</td>\n",
       "      <td>0.000000</td>\n",
       "      <td>0.000000</td>\n",
       "      <td>0.000000</td>\n",
       "      <td>200.000000</td>\n",
       "      <td>0.000000</td>\n",
       "      <td>0.000000</td>\n",
       "      <td>616.000000</td>\n",
       "      <td>20.000000</td>\n",
       "      <td>1.000000</td>\n",
       "      <td>0.000000</td>\n",
       "      <td>0.000000</td>\n",
       "      <td>2.000000</td>\n",
       "    </tr>\n",
       "    <tr>\n",
       "      <th>25%</th>\n",
       "      <td>145000.000000</td>\n",
       "      <td>0.170000</td>\n",
       "      <td>0.000000</td>\n",
       "      <td>13.000000</td>\n",
       "      <td>15100.000000</td>\n",
       "      <td>0.000000</td>\n",
       "      <td>0.000000</td>\n",
       "      <td>1300.000000</td>\n",
       "      <td>52.000000</td>\n",
       "      <td>3.000000</td>\n",
       "      <td>0.000000</td>\n",
       "      <td>1.500000</td>\n",
       "      <td>5.000000</td>\n",
       "    </tr>\n",
       "    <tr>\n",
       "      <th>50%</th>\n",
       "      <td>189700.000000</td>\n",
       "      <td>0.370000</td>\n",
       "      <td>0.000000</td>\n",
       "      <td>19.000000</td>\n",
       "      <td>25000.000000</td>\n",
       "      <td>0.000000</td>\n",
       "      <td>0.000000</td>\n",
       "      <td>1632.000000</td>\n",
       "      <td>57.000000</td>\n",
       "      <td>3.000000</td>\n",
       "      <td>1.000000</td>\n",
       "      <td>2.000000</td>\n",
       "      <td>7.000000</td>\n",
       "    </tr>\n",
       "    <tr>\n",
       "      <th>75%</th>\n",
       "      <td>257289.500000</td>\n",
       "      <td>0.540000</td>\n",
       "      <td>0.000000</td>\n",
       "      <td>34.000000</td>\n",
       "      <td>40200.000000</td>\n",
       "      <td>0.000000</td>\n",
       "      <td>1.000000</td>\n",
       "      <td>2133.500000</td>\n",
       "      <td>64.000000</td>\n",
       "      <td>4.000000</td>\n",
       "      <td>1.000000</td>\n",
       "      <td>2.500000</td>\n",
       "      <td>8.000000</td>\n",
       "    </tr>\n",
       "    <tr>\n",
       "      <th>max</th>\n",
       "      <td>775000.000000</td>\n",
       "      <td>12.200000</td>\n",
       "      <td>1.000000</td>\n",
       "      <td>225.000000</td>\n",
       "      <td>412600.000000</td>\n",
       "      <td>1.000000</td>\n",
       "      <td>1.000000</td>\n",
       "      <td>5228.000000</td>\n",
       "      <td>82.000000</td>\n",
       "      <td>7.000000</td>\n",
       "      <td>4.000000</td>\n",
       "      <td>4.500000</td>\n",
       "      <td>12.000000</td>\n",
       "    </tr>\n",
       "  </tbody>\n",
       "</table>\n",
       "</div>"
      ],
      "text/plain": [
       "               Price     Lot.Size   Waterfront          Age     Land.Value  \\\n",
       "count    1734.000000  1734.000000  1734.000000  1734.000000    1734.000000   \n",
       "mean   211545.054210     0.500294     0.008651    28.090542   34536.228374   \n",
       "std     98553.809581     0.698201     0.092632    29.524534   34980.940615   \n",
       "min      5000.000000     0.000000     0.000000     0.000000     200.000000   \n",
       "25%    145000.000000     0.170000     0.000000    13.000000   15100.000000   \n",
       "50%    189700.000000     0.370000     0.000000    19.000000   25000.000000   \n",
       "75%    257289.500000     0.540000     0.000000    34.000000   40200.000000   \n",
       "max    775000.000000    12.200000     1.000000   225.000000  412600.000000   \n",
       "\n",
       "       New.Construct  Central.Air  Living.Area  Pct.College     Bedrooms  \\\n",
       "count    1734.000000  1734.000000  1734.000000  1712.000000  1734.000000   \n",
       "mean        0.046713     0.366205  1752.630911    55.639019     3.151672   \n",
       "std         0.211084     0.481905   620.224953    10.309385     0.817830   \n",
       "min         0.000000     0.000000   616.000000    20.000000     1.000000   \n",
       "25%         0.000000     0.000000  1300.000000    52.000000     3.000000   \n",
       "50%         0.000000     0.000000  1632.000000    57.000000     3.000000   \n",
       "75%         0.000000     1.000000  2133.500000    64.000000     4.000000   \n",
       "max         1.000000     1.000000  5228.000000    82.000000     7.000000   \n",
       "\n",
       "        Fireplaces    Bathrooms        Rooms  \n",
       "count  1724.000000  1734.000000  1720.000000  \n",
       "mean      0.600348     1.898501     7.031395  \n",
       "std       0.556521     0.658355     2.322250  \n",
       "min       0.000000     0.000000     2.000000  \n",
       "25%       0.000000     1.500000     5.000000  \n",
       "50%       1.000000     2.000000     7.000000  \n",
       "75%       1.000000     2.500000     8.000000  \n",
       "max       4.000000     4.500000    12.000000  "
      ]
     },
     "execution_count": 15,
     "metadata": {},
     "output_type": "execute_result"
    }
   ],
   "source": [
    "df.describe()"
   ]
  },
  {
   "cell_type": "code",
   "execution_count": 16,
   "metadata": {},
   "outputs": [],
   "source": [
    "df['Pct.College']=df[['Pct.College']].transform(lambda x: x.fillna(int(x.median())))"
   ]
  },
  {
   "cell_type": "code",
   "execution_count": 17,
   "metadata": {},
   "outputs": [],
   "source": [
    "df['Fireplaces']=df[['Fireplaces']].transform(lambda x: x.fillna(int(x.median())))"
   ]
  },
  {
   "cell_type": "code",
   "execution_count": 18,
   "metadata": {},
   "outputs": [],
   "source": [
    "df['Rooms']=df[['Rooms']].transform(lambda x: x.fillna(x.median()))"
   ]
  },
  {
   "cell_type": "code",
   "execution_count": 19,
   "metadata": {},
   "outputs": [
    {
     "data": {
      "text/plain": [
       "Price            0\n",
       "Lot.Size         0\n",
       "Waterfront       0\n",
       "Age              0\n",
       "Land.Value       0\n",
       "New.Construct    0\n",
       "Central.Air      0\n",
       "Fuel.Type        0\n",
       "Heat.Type        0\n",
       "Sewer.Type       0\n",
       "Living.Area      0\n",
       "Pct.College      0\n",
       "Bedrooms         0\n",
       "Fireplaces       0\n",
       "Bathrooms        0\n",
       "Rooms            0\n",
       "dtype: int64"
      ]
     },
     "execution_count": 19,
     "metadata": {},
     "output_type": "execute_result"
    }
   ],
   "source": [
    "df.isnull().sum()"
   ]
  },
  {
   "cell_type": "code",
   "execution_count": 20,
   "metadata": {},
   "outputs": [
    {
     "name": "stdout",
     "output_type": "stream",
     "text": [
      "<class 'pandas.core.frame.DataFrame'>\n",
      "RangeIndex: 1734 entries, 0 to 1733\n",
      "Data columns (total 16 columns):\n",
      " #   Column         Non-Null Count  Dtype  \n",
      "---  ------         --------------  -----  \n",
      " 0   Price          1734 non-null   int64  \n",
      " 1   Lot.Size       1734 non-null   float64\n",
      " 2   Waterfront     1734 non-null   int64  \n",
      " 3   Age            1734 non-null   float64\n",
      " 4   Land.Value     1734 non-null   int64  \n",
      " 5   New.Construct  1734 non-null   int64  \n",
      " 6   Central.Air    1734 non-null   int64  \n",
      " 7   Fuel.Type      1734 non-null   object \n",
      " 8   Heat.Type      1734 non-null   object \n",
      " 9   Sewer.Type     1734 non-null   object \n",
      " 10  Living.Area    1734 non-null   int64  \n",
      " 11  Pct.College    1734 non-null   float64\n",
      " 12  Bedrooms       1734 non-null   int64  \n",
      " 13  Fireplaces     1734 non-null   float64\n",
      " 14  Bathrooms      1734 non-null   float64\n",
      " 15  Rooms          1734 non-null   float64\n",
      "dtypes: float64(6), int64(7), object(3)\n",
      "memory usage: 216.9+ KB\n"
     ]
    }
   ],
   "source": [
    "df.info()"
   ]
  },
  {
   "cell_type": "code",
   "execution_count": 21,
   "metadata": {},
   "outputs": [
    {
     "data": {
      "text/plain": [
       "array(['Gas', 'Electric', 'Oil', 'Unknown/Other', 'Wood', 'None', 'Solar'],\n",
       "      dtype=object)"
      ]
     },
     "execution_count": 21,
     "metadata": {},
     "output_type": "execute_result"
    }
   ],
   "source": [
    "df['Fuel.Type'].unique()"
   ]
  },
  {
   "cell_type": "markdown",
   "metadata": {},
   "source": [
    "<h3> Using one hot encoding to convert categorical features to numerical features </h3>"
   ]
  },
  {
   "cell_type": "code",
   "execution_count": 22,
   "metadata": {},
   "outputs": [],
   "source": [
    "cl=pd.get_dummies(df['Fuel.Type'],columns='Fuel.Type',prefix='Fuel')\n",
    "df[cl.columns]= cl\n",
    "df.drop(('Fuel.Type'),axis=1, inplace=True)"
   ]
  },
  {
   "cell_type": "code",
   "execution_count": 23,
   "metadata": {},
   "outputs": [
    {
     "data": {
      "text/plain": [
       "array(['Hot Water', 'Electric', 'Hot Air', 'None'], dtype=object)"
      ]
     },
     "execution_count": 23,
     "metadata": {},
     "output_type": "execute_result"
    }
   ],
   "source": [
    "df['Heat.Type'].unique()"
   ]
  },
  {
   "cell_type": "code",
   "execution_count": 24,
   "metadata": {},
   "outputs": [],
   "source": [
    "    cl=pd.get_dummies(df['Heat.Type'],columns='Heat.Type',prefix='Heat')\n",
    "    df[cl.columns]= cl\n",
    "    df.drop(('Heat.Type'),axis=1, inplace=True)"
   ]
  },
  {
   "cell_type": "code",
   "execution_count": 25,
   "metadata": {},
   "outputs": [],
   "source": [
    "cl=pd.get_dummies(df['Sewer.Type'],columns='Sewer.Type',prefix='Sewer')\n",
    "df[cl.columns]= cl\n",
    "df.drop(('Sewer.Type'),axis=1, inplace=True)"
   ]
  },
  {
   "cell_type": "code",
   "execution_count": 26,
   "metadata": {},
   "outputs": [
    {
     "data": {
      "text/plain": [
       "(1734, 27)"
      ]
     },
     "execution_count": 26,
     "metadata": {},
     "output_type": "execute_result"
    }
   ],
   "source": [
    "df.shape"
   ]
  },
  {
   "cell_type": "markdown",
   "metadata": {},
   "source": [
    "<h3> Splitting the data into train and test sets </h3>"
   ]
  },
  {
   "cell_type": "code",
   "execution_count": 27,
   "metadata": {},
   "outputs": [],
   "source": [
    "X=df.drop('Price',axis=1)\n",
    "Y=df['Price']"
   ]
  },
  {
   "cell_type": "code",
   "execution_count": 28,
   "metadata": {},
   "outputs": [],
   "source": [
    "from sklearn.model_selection import train_test_split\n",
    "from sklearn.preprocessing import MinMaxScaler\n",
    "from sklearn.preprocessing import StandardScaler\n",
    "from sklearn import metrics"
   ]
  },
  {
   "cell_type": "code",
   "execution_count": 29,
   "metadata": {},
   "outputs": [],
   "source": [
    "X_train_org,X_test_org,Y_train,Y_test= train_test_split(X,Y,test_size=0.2, random_state=0)"
   ]
  },
  {
   "cell_type": "code",
   "execution_count": 30,
   "metadata": {},
   "outputs": [
    {
     "name": "stdout",
     "output_type": "stream",
     "text": [
      "(1387, 26)\n"
     ]
    }
   ],
   "source": [
    "scaler= MinMaxScaler()\n",
    "scaler.fit(X_train_org)\n",
    "X_train= scaler.transform(X_train_org)\n",
    "X_test= scaler.transform(X_test_org)\n",
    "print(X_train.shape)"
   ]
  },
  {
   "cell_type": "markdown",
   "metadata": {},
   "source": [
    "<h3>Bagging Regressor with Decision Tree Regressor </h3>"
   ]
  },
  {
   "cell_type": "code",
   "execution_count": 31,
   "metadata": {},
   "outputs": [
    {
     "name": "stdout",
     "output_type": "stream",
     "text": [
      "Best Parameters: {'max_samples': 300, 'n_estimators': 100}\n",
      "Train score: 0.7487440603707227\n",
      "Test score: 0.6606910990744923\n"
     ]
    }
   ],
   "source": [
    "from sklearn.ensemble import BaggingRegressor\n",
    "from sklearn.tree import DecisionTreeRegressor\n",
    "from sklearn.model_selection import GridSearchCV\n",
    "\n",
    "dt_clf = DecisionTreeRegressor(random_state=0)\n",
    "bag_clf = BaggingRegressor(dt_clf, bootstrap=True, n_jobs=-1, random_state=0)\n",
    "param_grid={'n_estimators':[50,100,150],'max_samples':[100,200,300]}\n",
    "grid=GridSearchCV(bag_clf,param_grid,cv=5,return_train_score=True)\n",
    "grid.fit(X_train, Y_train)\n",
    "train=grid.cv_results_['mean_train_score']\n",
    "print(\"Best Parameters: {}\".format(grid.best_params_))\n",
    "print(\"Train score: {}\".format(train.mean()))\n",
    "print(\"Test score: {}\".format(grid.score(X_test,Y_test)))"
   ]
  },
  {
   "cell_type": "markdown",
   "metadata": {},
   "source": [
    "<h3>Bagging Regressor with Linear SVR </h3>"
   ]
  },
  {
   "cell_type": "code",
   "execution_count": 32,
   "metadata": {},
   "outputs": [
    {
     "name": "stdout",
     "output_type": "stream",
     "text": [
      "Best Parameters: {'max_samples': 300, 'n_estimators': 50}\n",
      "Train score: -4.41795945354148\n",
      "Test score: -5.514295947492502\n"
     ]
    }
   ],
   "source": [
    "from sklearn.svm import SVR,LinearSVR\n",
    "clf1=LinearSVR()\n",
    "bag_clf1 = BaggingRegressor(clf1, bootstrap=True, n_jobs=-1, random_state=0)\n",
    "param_grid={'n_estimators':[50,100,150],'max_samples':[100,200,300]}\n",
    "grid1=GridSearchCV(bag_clf1,param_grid,cv=5,return_train_score=True)\n",
    "grid1.fit(X_train, Y_train)\n",
    "train=grid1.cv_results_['mean_train_score']\n",
    "print(\"Best Parameters: {}\".format(grid1.best_params_))\n",
    "print(\"Train score: {}\".format(train.mean()))\n",
    "print(\"Test score: {}\".format(grid1.score(X_test,Y_test)))"
   ]
  },
  {
   "cell_type": "markdown",
   "metadata": {},
   "source": [
    "<h3>Pasting with Linear Regression </h3>"
   ]
  },
  {
   "cell_type": "code",
   "execution_count": 33,
   "metadata": {},
   "outputs": [
    {
     "name": "stdout",
     "output_type": "stream",
     "text": [
      "Best Parameters: {'max_samples': 300, 'n_estimators': 50}\n",
      "Train score: 0.6531192708568357\n",
      "Test score: 0.6558298304823773\n"
     ]
    }
   ],
   "source": [
    "from sklearn.linear_model import LinearRegression\n",
    "lr_clf = LinearRegression(copy_X= True, fit_intercept= False, normalize= True)\n",
    "pas_clf = BaggingRegressor(lr_clf,bootstrap=False, n_jobs=-1, random_state=0)\n",
    "param_grid={'n_estimators':[50,100,150],'max_samples':[100,200,300]}\n",
    "grid2=GridSearchCV(pas_clf,param_grid,cv=5,return_train_score=True)\n",
    "grid2.fit(X_train, Y_train)\n",
    "train=grid2.cv_results_['mean_train_score']\n",
    "print(\"Best Parameters: {}\".format(grid2.best_params_))\n",
    "print(\"Train score: {}\".format(train.mean()))\n",
    "print(\"Test score: {}\".format(grid2.score(X_test,Y_test)))"
   ]
  },
  {
   "cell_type": "markdown",
   "metadata": {},
   "source": [
    "<h3> Pasting with Ridge Regression </h3>"
   ]
  },
  {
   "cell_type": "code",
   "execution_count": 34,
   "metadata": {},
   "outputs": [
    {
     "name": "stdout",
     "output_type": "stream",
     "text": [
      "Best Parameters: {'max_samples': 300, 'n_estimators': 50}\n",
      "Train score: 0.6508847478954797\n",
      "Test score: 0.6586860199227791\n"
     ]
    }
   ],
   "source": [
    "from sklearn.linear_model import Ridge\n",
    "r_clf = Ridge(alpha= 0.1)\n",
    "pas_clf1 = BaggingRegressor(r_clf,bootstrap=False, n_jobs=-1, random_state=0)\n",
    "param_grid={'n_estimators':[50,100,150],'max_samples':[100,200,300]}\n",
    "grid3=GridSearchCV(pas_clf1,param_grid,cv=5,return_train_score=True)\n",
    "grid3.fit(X_train, Y_train)\n",
    "train=grid3.cv_results_['mean_train_score']\n",
    "print(\"Best Parameters: {}\".format(grid3.best_params_))\n",
    "print(\"Train score: {}\".format(train.mean()))\n",
    "print(\"Test score: {}\".format(grid3.score(X_test,Y_test)))"
   ]
  },
  {
   "cell_type": "markdown",
   "metadata": {},
   "source": [
    "<h3> Ada Boosting with Decision Tree Regressor </h3>"
   ]
  },
  {
   "cell_type": "code",
   "execution_count": 35,
   "metadata": {},
   "outputs": [
    {
     "name": "stdout",
     "output_type": "stream",
     "text": [
      "Best Parameters: {'learning_rate': 0.5, 'n_estimators': 50}\n",
      "Train score: 0.24405456901323372\n",
      "Test score: 0.09041442379441822\n"
     ]
    }
   ],
   "source": [
    "from sklearn.ensemble import AdaBoostRegressor\n",
    "ada_clf = AdaBoostRegressor(DecisionTreeRegressor(max_depth=1), random_state=0)\n",
    "param_grid={'n_estimators':[50,100,150],'learning_rate':[0.5,1]}\n",
    "grid4=GridSearchCV(ada_clf,param_grid,cv=5,return_train_score=True)\n",
    "grid4.fit(X_train, Y_train)\n",
    "train=grid4.cv_results_['mean_train_score']\n",
    "print(\"Best Parameters: {}\".format(grid4.best_params_))\n",
    "print(\"Train score: {}\".format(train.mean()))\n",
    "print(\"Test score: {}\".format(grid4.score(X_test,Y_test)))"
   ]
  },
  {
   "cell_type": "markdown",
   "metadata": {},
   "source": [
    "<h3> Ada Boosting with Lasso Regression </h3>"
   ]
  },
  {
   "cell_type": "code",
   "execution_count": 36,
   "metadata": {},
   "outputs": [
    {
     "name": "stdout",
     "output_type": "stream",
     "text": [
      "Best Parameters: {'learning_rate': 1, 'n_estimators': 50}\n",
      "Train score: 0.6090201881608291\n",
      "Test score: 0.6190785936891614\n"
     ]
    }
   ],
   "source": [
    "from sklearn.linear_model import Lasso\n",
    "ada_clf1 = AdaBoostRegressor(Lasso(alpha=10), random_state=0)\n",
    "param_grid={'n_estimators':[50,100,150],'learning_rate':[0.5,1]}\n",
    "grid5=GridSearchCV(ada_clf1,param_grid,cv=5,return_train_score=True)\n",
    "grid5.fit(X_train, Y_train)\n",
    "train=grid5.cv_results_['mean_train_score']\n",
    "print(\"Best Parameters: {}\".format(grid5.best_params_))\n",
    "print(\"Train score: {}\".format(train.mean()))\n",
    "print(\"Test score: {}\".format(grid5.score(X_test,Y_test)))"
   ]
  },
  {
   "cell_type": "markdown",
   "metadata": {},
   "source": [
    "<h3> Gradient Boosting Regressor </h3>"
   ]
  },
  {
   "cell_type": "code",
   "execution_count": 37,
   "metadata": {},
   "outputs": [
    {
     "name": "stdout",
     "output_type": "stream",
     "text": [
      "Best Parameters: {'learning_rate': 0.5, 'n_estimators': 50}\n",
      "Train score: 0.8937514177117686\n",
      "Test score: 0.5921138788581473\n"
     ]
    }
   ],
   "source": [
    "from  sklearn.ensemble import GradientBoostingRegressor\n",
    "\n",
    "gbrt = GradientBoostingRegressor(max_depth=2, random_state=0)\n",
    "param_grid={'n_estimators':[50,100,150],'learning_rate':[0.5,1]}\n",
    "grid6=GridSearchCV(gbrt,param_grid,cv=5,return_train_score=True)\n",
    "grid6.fit(X_train, Y_train)\n",
    "train=grid6.cv_results_['mean_train_score']\n",
    "print(\"Best Parameters: {}\".format(grid6.best_params_))\n",
    "print(\"Train score: {}\".format(train.mean()))\n",
    "print(\"Test score: {}\".format(grid6.score(X_test,Y_test)))"
   ]
  },
  {
   "cell_type": "markdown",
   "metadata": {},
   "source": [
    "<h3> PCA with KNN Regression </h3>"
   ]
  },
  {
   "cell_type": "code",
   "execution_count": 38,
   "metadata": {},
   "outputs": [
    {
     "name": "stdout",
     "output_type": "stream",
     "text": [
      "Best Parameters: {'knn__metric': 'manhattan', 'knn__n_neighbors': 19, 'knn__weights': 'distance'}\n",
      "Train score: 0.7901379744999255\n",
      "Test score: 0.5115595216235551\n"
     ]
    }
   ],
   "source": [
    "from sklearn.decomposition import PCA\n",
    "from sklearn.neighbors import KNeighborsRegressor\n",
    "from sklearn.pipeline import Pipeline\n",
    "\n",
    "clf = Pipeline([\n",
    "        (\"pca\", PCA(n_components=0.95)),\n",
    "        (\"knn\", KNeighborsRegressor())\n",
    "    ])\n",
    "param_grid5 = {'knn__n_neighbors': [3,5,7,10,19],'knn__weights': ['uniform','distance'],'knn__metric': ['euclidean','manhattan']}\n",
    "grid7=GridSearchCV(clf,param_grid5,cv=3,return_train_score=True)\n",
    "grid7.fit(X_train,Y_train)\n",
    "train=grid7.cv_results_['mean_train_score']\n",
    "print(\"Best Parameters: {}\".format(grid7.best_params_))\n",
    "print(\"Train score: {}\".format(train.mean()))\n",
    "print(\"Test score: {}\".format(grid7.score(X_test,Y_test)))"
   ]
  },
  {
   "cell_type": "markdown",
   "metadata": {},
   "source": [
    "<h3> PCA with Linear Regression </h3>"
   ]
  },
  {
   "cell_type": "code",
   "execution_count": 39,
   "metadata": {},
   "outputs": [
    {
     "name": "stdout",
     "output_type": "stream",
     "text": [
      "Best Parameters: {'lr__copy_X': True, 'lr__fit_intercept': True, 'lr__normalize': False}\n",
      "Train score: -1.77331920117229\n",
      "Test score: 0.47853450608838277\n"
     ]
    }
   ],
   "source": [
    "clf1 = Pipeline([\n",
    "        (\"pca\", PCA(n_components=0.95)),\n",
    "        (\"lr\", LinearRegression())\n",
    "    ])\n",
    "parameters = {'lr__fit_intercept':[True,False], 'lr__normalize':[True,False], 'lr__copy_X':[True, False]}\n",
    "grid8=GridSearchCV(clf1,parameters,cv=3,return_train_score=True)\n",
    "grid8.fit(X_train,Y_train)\n",
    "train=grid8.cv_results_['mean_train_score']\n",
    "print(\"Best Parameters: {}\".format(grid8.best_params_))\n",
    "print(\"Train score: {}\".format(train.mean()))\n",
    "print(\"Test score: {}\".format(grid8.score(X_test,Y_test)))"
   ]
  },
  {
   "cell_type": "markdown",
   "metadata": {},
   "source": [
    "<h3> PCA with Ridge Regression </h3>"
   ]
  },
  {
   "cell_type": "code",
   "execution_count": 40,
   "metadata": {},
   "outputs": [
    {
     "name": "stdout",
     "output_type": "stream",
     "text": [
      "Best Parameters: {'rid__alpha': 1}\n",
      "Train score: 0.4297418518317177\n",
      "Test score: 0.4790003887649017\n"
     ]
    }
   ],
   "source": [
    "clf2 = Pipeline([\n",
    "        (\"pca\", PCA(n_components=0.95)),\n",
    "        (\"rid\", Ridge())\n",
    "    ])\n",
    "parameters1={'rid__alpha':[0.1,1,10,100]}\n",
    "grid9=GridSearchCV(clf2,parameters1,cv=3,return_train_score=True)\n",
    "grid9.fit(X_train,Y_train)\n",
    "train=grid9.cv_results_['mean_train_score']\n",
    "print(\"Best Parameters: {}\".format(grid9.best_params_))\n",
    "print(\"Train score: {}\".format(train.mean()))\n",
    "print(\"Test score: {}\".format(grid9.score(X_test,Y_test)))"
   ]
  },
  {
   "cell_type": "code",
   "execution_count": 41,
   "metadata": {},
   "outputs": [
    {
     "data": {
      "image/png": "[encoded data removed]",
      "text/plain": [
       "<Figure size 432x288 with 1 Axes>"
      ]
     },
     "metadata": {
      "needs_background": "light"
     },
     "output_type": "display_data"
    }
   ],
   "source": [
    "alpha = [0.1,1,10,100]\n",
    "means = grid9.cv_results_['mean_test_score']\n",
    "for i in alpha:\n",
    "    if i==grid9.best_params_['rid__alpha']:\n",
    "        ind=alpha.index(i)\n",
    "\n",
    "plt.plot(means,alpha,label=\"train score\")\n",
    "plt.plot(train,alpha,label=\"test score\")\n",
    "plt.scatter(means[ind],alpha[ind])\n",
    "plt.scatter(train[ind],alpha[ind])\n",
    "plt.xlabel(\"accuracy scores\")\n",
    "plt.ylabel(\"alpha\")\n",
    "plt.legend(loc=\"upper right\")\n",
    "plt.show()"
   ]
  },
  {
   "cell_type": "markdown",
   "metadata": {},
   "source": [
    "<h3> PCA with Lasso Regression </h3>"
   ]
  },
  {
   "cell_type": "code",
   "execution_count": 42,
   "metadata": {},
   "outputs": [
    {
     "name": "stdout",
     "output_type": "stream",
     "text": [
      "Best Parameters: {'las__alpha': 100}\n",
      "Train score: 0.45293533576760786\n",
      "Test score: 0.47961120989591877\n"
     ]
    }
   ],
   "source": [
    "clf3 = Pipeline([\n",
    "        (\"pca\", PCA(n_components=0.95)),\n",
    "        (\"las\", Lasso())\n",
    "    ])\n",
    "parameters2={'las__alpha':[0.1,1,10,100]}\n",
    "grid10=GridSearchCV(clf3,parameters2,cv=3,return_train_score=True)\n",
    "grid10.fit(X_train,Y_train)\n",
    "train=grid10.cv_results_['mean_train_score']\n",
    "print(\"Best Parameters: {}\".format(grid10.best_params_))\n",
    "print(\"Train score: {}\".format(train.mean()))\n",
    "print(\"Test score: {}\".format(grid10.score(X_test,Y_test)))"
   ]
  },
  {
   "cell_type": "code",
   "execution_count": 43,
   "metadata": {},
   "outputs": [
    {
     "data": {
      "image/png": "[encoded data removed]",
      "text/plain": [
       "<Figure size 432x288 with 1 Axes>"
      ]
     },
     "metadata": {
      "needs_background": "light"
     },
     "output_type": "display_data"
    }
   ],
   "source": [
    "alpha = [0.1,1,10,100]\n",
    "means = grid10.cv_results_['mean_test_score']\n",
    "for i in alpha:\n",
    "    if i==grid10.best_params_['las__alpha']:\n",
    "        ind=alpha.index(i)\n",
    "\n",
    "plt.plot(means,alpha,label=\"train score\")\n",
    "plt.plot(train,alpha,label=\"test score\")\n",
    "plt.scatter(means[ind],alpha[ind])\n",
    "plt.scatter(train[ind],alpha[ind])\n",
    "plt.xlabel(\"accuracy scores\")\n",
    "plt.ylabel(\"alpha\")\n",
    "plt.legend(loc=\"best\")\n",
    "plt.show()"
   ]
  },
  {
   "cell_type": "markdown",
   "metadata": {},
   "source": [
    "<h3> PCA with Polynomial Regression </h3>"
   ]
  },
  {
   "cell_type": "code",
   "execution_count": 44,
   "metadata": {},
   "outputs": [
    {
     "name": "stdout",
     "output_type": "stream",
     "text": [
      "Best Parameters: {'poly__polynomialfeatures__degree': 2, 'poly__ridge__alpha': 0.1}\n",
      "Train score: 0.48880303409367004\n",
      "Test score: 0.5345631769573334\n"
     ]
    }
   ],
   "source": [
    "from sklearn.preprocessing import PolynomialFeatures\n",
    "from sklearn.pipeline import make_pipeline\n",
    "pipe = make_pipeline(\n",
    "    PolynomialFeatures(),\n",
    "    Ridge())\n",
    "clf4 = Pipeline([\n",
    "        (\"pca\", PCA(n_components=0.95)),\n",
    "        (\"poly\", pipe)\n",
    "    ])\n",
    "parameters2={'poly__polynomialfeatures__degree':[1,2,3],'poly__ridge__alpha':[0.1,1,10,100]}\n",
    "grid11=GridSearchCV(clf4,parameters2,cv=3,return_train_score=True)\n",
    "grid11.fit(X_train,Y_train)\n",
    "train=grid11.cv_results_['mean_train_score']\n",
    "print(\"Best Parameters: {}\".format(grid11.best_params_))\n",
    "print(\"Train score: {}\".format(train.mean()))\n",
    "print(\"Test score: {}\".format(grid11.score(X_test,Y_test)))"
   ]
  },
  {
   "cell_type": "markdown",
   "metadata": {},
   "source": [
    "<h3> PCA with Linear SVR </h3>"
   ]
  },
  {
   "cell_type": "code",
   "execution_count": 45,
   "metadata": {},
   "outputs": [
    {
     "name": "stdout",
     "output_type": "stream",
     "text": [
      "Best Parameters: {'lsvr__C': 100}\n",
      "Train score: -3.346103335379727\n",
      "Test score: -0.991896257558669\n"
     ]
    }
   ],
   "source": [
    "clf5 = Pipeline([\n",
    "        (\"pca\", PCA(n_components=0.95)),\n",
    "        (\"lsvr\", LinearSVR())\n",
    "    ])\n",
    "parameters2={'lsvr__C':[1,10,100]}\n",
    "grid12=GridSearchCV(clf5,parameters2,cv=3,return_train_score=True)\n",
    "grid12.fit(X_train,Y_train)\n",
    "train=grid12.cv_results_['mean_train_score']\n",
    "print(\"Best Parameters: {}\".format(grid12.best_params_))\n",
    "print(\"Train score: {}\".format(train.mean()))\n",
    "print(\"Test score: {}\".format(grid12.score(X_test,Y_test)))"
   ]
  },
  {
   "cell_type": "code",
   "execution_count": 46,
   "metadata": {},
   "outputs": [
    {
     "data": {
      "image/png": "[encoded data removed]",
      "text/plain": [
       "<Figure size 432x288 with 1 Axes>"
      ]
     },
     "metadata": {
      "needs_background": "light"
     },
     "output_type": "display_data"
    }
   ],
   "source": [
    "C=[1,10,100]\n",
    "means = grid12.cv_results_['mean_test_score']\n",
    "for i in C:\n",
    "    if i==grid12.best_params_['lsvr__C']:\n",
    "        ind=C.index(i)\n",
    "\n",
    "plt.plot(means,C,label=\"train score\")\n",
    "plt.plot(train,C,label=\"test score\")\n",
    "plt.scatter(means[ind],C[ind])\n",
    "plt.scatter(train[ind],C[ind])\n",
    "plt.xlabel(\"accuracy scores\")\n",
    "plt.ylabel(\"C\")\n",
    "plt.legend(loc=\"best\")\n",
    "plt.show()"
   ]
  },
  {
   "cell_type": "markdown",
   "metadata": {},
   "source": [
    "<h3> PCA with SVR with linear kernel </h3>"
   ]
  },
  {
   "cell_type": "code",
   "execution_count": 47,
   "metadata": {},
   "outputs": [
    {
     "name": "stdout",
     "output_type": "stream",
     "text": [
      "Best Parameters: {'lsvrk__C': 100}\n",
      "Train score: -0.002119218205083586\n",
      "Test score: 0.17142848967891244\n"
     ]
    }
   ],
   "source": [
    "clf6 = Pipeline([\n",
    "        (\"pca\", PCA(n_components=0.95)),\n",
    "        (\"lsvrk\", SVR(kernel='linear'))\n",
    "    ])\n",
    "parameters2={\"lsvrk__C\":[1,10,100]}\n",
    "grid13=GridSearchCV(clf6,parameters2,cv=3,return_train_score=True)\n",
    "grid13.fit(X_train,Y_train)\n",
    "train=grid13.cv_results_['mean_train_score']\n",
    "print(\"Best Parameters: {}\".format(grid13.best_params_))\n",
    "print(\"Train score: {}\".format(train.mean()))\n",
    "print(\"Test score: {}\".format(grid13.score(X_test,Y_test)))"
   ]
  },
  {
   "cell_type": "code",
   "execution_count": 48,
   "metadata": {},
   "outputs": [
    {
     "data": {
      "image/png": "[encoded data removed]",
      "text/plain": [
       "<Figure size 432x288 with 1 Axes>"
      ]
     },
     "metadata": {
      "needs_background": "light"
     },
     "output_type": "display_data"
    }
   ],
   "source": [
    "C=[1,10,100]\n",
    "means = grid13.cv_results_['mean_test_score']\n",
    "for i in C:\n",
    "    if i==grid13.best_params_['lsvrk__C']:\n",
    "        ind=C.index(i)\n",
    "\n",
    "plt.plot(means,C,label=\"train score\")\n",
    "plt.plot(train,C,label=\"test score\")\n",
    "plt.scatter(means[ind],C[ind])\n",
    "plt.scatter(train[ind],C[ind])\n",
    "plt.xlabel(\"accuracy scores\")\n",
    "plt.ylabel(\"C\")\n",
    "plt.legend(loc=\"best\")\n",
    "plt.show()"
   ]
  },
  {
   "cell_type": "markdown",
   "metadata": {},
   "source": [
    "<h3> PCA with SVR with rbf kernel </h3>"
   ]
  },
  {
   "cell_type": "code",
   "execution_count": 49,
   "metadata": {},
   "outputs": [
    {
     "name": "stdout",
     "output_type": "stream",
     "text": [
      "Best Parameters: {'rsvrk__C': 100}\n",
      "Train score: -0.0398004685114283\n",
      "Test score: 0.035388336351242056\n"
     ]
    }
   ],
   "source": [
    "clf7 = Pipeline([\n",
    "        (\"pca\", PCA(n_components=0.95)),\n",
    "        (\"rsvrk\", SVR(kernel='rbf',C=100,gamma=1))\n",
    "    ])\n",
    "parameters2={\"rsvrk__C\":[1,10,100]}\n",
    "grid14=GridSearchCV(clf7,parameters2,cv=3,return_train_score=True)\n",
    "grid14.fit(X_train,Y_train)\n",
    "train=grid14.cv_results_['mean_train_score']\n",
    "print(\"Best Parameters: {}\".format(grid14.best_params_))\n",
    "print(\"Train score: {}\".format(train.mean()))\n",
    "print(\"Test score: {}\".format(grid14.score(X_test,Y_test)))"
   ]
  },
  {
   "cell_type": "code",
   "execution_count": 50,
   "metadata": {},
   "outputs": [
    {
     "data": {
      "image/png": "[encoded data removed]",
      "text/plain": [
       "<Figure size 432x288 with 1 Axes>"
      ]
     },
     "metadata": {
      "needs_background": "light"
     },
     "output_type": "display_data"
    }
   ],
   "source": [
    "C=[1,10,100]\n",
    "means = grid14.cv_results_['mean_test_score']\n",
    "for i in C:\n",
    "    if i==grid14.best_params_['rsvrk__C']:\n",
    "        ind=C.index(i)\n",
    "\n",
    "plt.plot(means,C,label=\"train score\")\n",
    "plt.plot(train,C,label=\"test score\")\n",
    "plt.scatter(means[ind],C[ind])\n",
    "plt.scatter(train[ind],C[ind])\n",
    "plt.xlabel(\"accuracy scores\")\n",
    "plt.ylabel(\"C\")\n",
    "plt.legend(loc=\"best\")\n",
    "plt.show()"
   ]
  },
  {
   "cell_type": "markdown",
   "metadata": {},
   "source": [
    "<h3> PCA with SVR with poly kernel </h3>"
   ]
  },
  {
   "cell_type": "code",
   "execution_count": 51,
   "metadata": {},
   "outputs": [
    {
     "name": "stdout",
     "output_type": "stream",
     "text": [
      "Best Parameters: {'psvrk__C': 100, 'psvrk__degree': 1}\n",
      "Train score: -0.03178802902280424\n",
      "Test score: 0.11069774264206667\n"
     ]
    }
   ],
   "source": [
    "clf8 = Pipeline([\n",
    "        (\"pca\", PCA(n_components=0.95)),\n",
    "        (\"psvrk\", SVR(kernel='poly',C=100,degree=1))\n",
    "    ])\n",
    "parameters2={\"psvrk__C\":[1,10,100],\"psvrk__degree\":[1,2,3]}\n",
    "grid15=GridSearchCV(clf8,parameters2,cv=3,return_train_score=True)\n",
    "grid15.fit(X_train,Y_train)\n",
    "train=grid15.cv_results_['mean_train_score']\n",
    "print(\"Best Parameters: {}\".format(grid15.best_params_))\n",
    "print(\"Train score: {}\".format(train.mean()))\n",
    "print(\"Test score: {}\".format(grid15.score(X_test,Y_test)))"
   ]
  },
  {
   "cell_type": "markdown",
   "metadata": {},
   "source": [
    "<h3>Scores of algorithms without PCA </h3>\n",
    "<table style=\"width:100%\">\n",
    "  <tr>\n",
    "    <th>Algorithm</th>\n",
    "    <th>Train Score</th> \n",
    "    <th>Test Score</th>\n",
    "  </tr>\n",
    "  <tr>\n",
    "    <td>K Nearest Neighbors</td>\n",
    "    <td>0.8181343712446223</td> \n",
    "    <td>0.5205609403529093</td>\n",
    "  </tr>\n",
    "  <tr>\n",
    "    <td>Linear Regression</td>\n",
    "    <td>0.04153727818031039</td> \n",
    "    <td>0.6417044300454586</td>\n",
    "  </tr>\n",
    "    <tr>\n",
    "    <td>Ridge</td>\n",
    "    <td>0.5341996581775573</td> \n",
    "    <td>0.6393481813161475</td>\n",
    "  </tr>\n",
    "    <tr>\n",
    "    <td>Lasso</td>\n",
    "    <td>0.6500176212701751</td> \n",
    "    <td>0.6393673931000765</td>\n",
    "  </tr>\n",
    "    <tr>\n",
    "    <td>Polynomial Regression</td>\n",
    "    <td>0.7733110614843973</td> \n",
    "    <td>0.6394886200845961</td>\n",
    "  </tr>\n",
    "    <tr>\n",
    "    <td>Linear SVR</td>\n",
    "    <td>-3.4619045155145174</td> \n",
    "    <td>-0.04573055192465872</td>\n",
    "  </tr>\n",
    "    <tr>\n",
    "    <td>SVR with linear kernel</td>\n",
    "    <td>-0.02695011195869257</td> \n",
    "    <td>0.07780976167175584</td>\n",
    "  </tr>\n",
    "    <tr>\n",
    "    <td>SVR with RBF kernel</td>\n",
    "    <td>-0.050443497989496405</td> \n",
    "    <td>-0.024432118052453922</td>\n",
    "  </tr>\n",
    "    <tr>\n",
    "    <td>SVR with poly kernel</td>\n",
    "    <td>-0.05245133029911933</td> \n",
    "    <td>-0.04702764160139896</td>\n",
    "  </tr>\n",
    "</table>"
   ]
  },
  {
   "cell_type": "markdown",
   "metadata": {},
   "source": [
    "<h3>Scores of algorithms with PCA </h3>\n",
    "<table style=\"width:100%\">\n",
    "  <tr>\n",
    "    <th>Algorithm</th>\n",
    "    <th>Train Score</th> \n",
    "    <th>Test Score</th>\n",
    "  </tr>\n",
    "  <tr>\n",
    "    <td>K Nearest Neighbors</td>\n",
    "    <td>0.7901379744999255</td> \n",
    "    <td>0.5115595216235556</td>\n",
    "  </tr>\n",
    "  <tr>\n",
    "    <td>Linear Regression</td>\n",
    "    <td>-1.77331920117229</td> \n",
    "    <td>0.4790003887649018</td>\n",
    "  </tr>\n",
    "    <tr>\n",
    "    <td>Ridge</td>\n",
    "    <td>0.42974185183171765</td> \n",
    "    <td>0.4785838288137123</td>\n",
    "  </tr>\n",
    "    <tr>\n",
    "    <td>Lasso</td>\n",
    "    <td>0.45293533576760786</td> \n",
    "    <td>0.47961120989591893</td>\n",
    "  </tr>\n",
    "    <tr>\n",
    "    <td>Polynomial Regression</td>\n",
    "    <td>0.48880303409367</td> \n",
    "    <td>0.5345631769573314</td>\n",
    "  </tr>\n",
    "    <tr>\n",
    "    <td>Linear SVR</td>\n",
    "    <td>-3.3461885678307914</td> \n",
    "    <td>-0.9913613571268671</td>\n",
    "  </tr>\n",
    "    <tr>\n",
    "    <td>SVR with linear kernel</td>\n",
    "    <td>-0.0021192182050836</td> \n",
    "    <td>0.17142848967891244</td>\n",
    "  </tr>\n",
    "    <tr>\n",
    "    <td>SVR with RBF kernel</td>\n",
    "    <td>-0.0398004685114283</td> \n",
    "    <td>0.035388336351242056</td>\n",
    "  </tr>\n",
    "    <tr>\n",
    "    <td>SVR with poly kernel</td>\n",
    "    <td>-0.04996824692728004</td> \n",
    "    <td>0.01129763243823756</td>\n",
    "  </tr>\n",
    "</table>"
   ]
  },
  {
   "cell_type": "markdown",
   "metadata": {},
   "source": [
    "For this dataset and the above computation, the PCA scores show improvement in accuracy scores of the model when executing algorithms with Kernel trick which lacked when running the same algorithms without PCA"
   ]
  },
  {
   "cell_type": "markdown",
   "metadata": {},
   "source": [
    "<h3> Deep Learning model for Regression </h3>"
   ]
  },
  {
   "cell_type": "code",
   "execution_count": 52,
   "metadata": {},
   "outputs": [],
   "source": [
    "import tensorflow as tf\n",
    "from tensorflow import keras\n",
    "from keras.models import Sequential\n",
    "from keras.layers import Dense\n",
    "from keras.wrappers.scikit_learn import KerasClassifier"
   ]
  },
  {
   "cell_type": "code",
   "execution_count": 55,
   "metadata": {},
   "outputs": [
    {
     "data": {
      "text/plain": [
       "(1387, 26)"
      ]
     },
     "execution_count": 55,
     "metadata": {},
     "output_type": "execute_result"
    }
   ],
   "source": [
    "X_train.shape"
   ]
  },
  {
   "cell_type": "code",
   "execution_count": 56,
   "metadata": {},
   "outputs": [
    {
     "name": "stdout",
     "output_type": "stream",
     "text": [
      "Epoch 1/30\n",
      "28/28 [==============================] - 0s 550us/step - loss: 213556.3906 - mean_absolute_error: 213556.3906\n",
      "Epoch 2/30\n",
      "28/28 [==============================] - 0s 534us/step - loss: 213550.1250 - mean_absolute_error: 213550.1250\n",
      "Epoch 3/30\n",
      "28/28 [==============================] - 0s 534us/step - loss: 213506.8906 - mean_absolute_error: 213506.8906\n",
      "Epoch 4/30\n",
      "28/28 [==============================] - 0s 570us/step - loss: 213315.4375 - mean_absolute_error: 213315.4375\n",
      "Epoch 5/30\n",
      "28/28 [==============================] - 0s 534us/step - loss: 212715.8750 - mean_absolute_error: 212715.8750\n",
      "Epoch 6/30\n",
      "28/28 [==============================] - 0s 605us/step - loss: 211262.2656 - mean_absolute_error: 211262.2656\n",
      "Epoch 7/30\n",
      "28/28 [==============================] - 0s 570us/step - loss: 208291.8594 - mean_absolute_error: 208291.8594\n",
      "Epoch 8/30\n",
      "28/28 [==============================] - 0s 570us/step - loss: 202960.6562 - mean_absolute_error: 202960.6562\n",
      "Epoch 9/30\n",
      "28/28 [==============================] - 0s 570us/step - loss: 194221.8594 - mean_absolute_error: 194221.8594\n",
      "Epoch 10/30\n",
      "28/28 [==============================] - 0s 499us/step - loss: 180815.0469 - mean_absolute_error: 180815.0469\n",
      "Epoch 11/30\n",
      "28/28 [==============================] - 0s 534us/step - loss: 161352.8750 - mean_absolute_error: 161352.8750\n",
      "Epoch 12/30\n",
      "28/28 [==============================] - 0s 570us/step - loss: 134579.2188 - mean_absolute_error: 134579.2188\n",
      "Epoch 13/30\n",
      "28/28 [==============================] - 0s 534us/step - loss: 101147.7422 - mean_absolute_error: 101147.7422\n",
      "Epoch 14/30\n",
      "28/28 [==============================] - 0s 534us/step - loss: 71393.4375 - mean_absolute_error: 71393.4375\n",
      "Epoch 15/30\n",
      "28/28 [==============================] - 0s 570us/step - loss: 59262.0977 - mean_absolute_error: 59262.0977\n",
      "Epoch 16/30\n",
      "28/28 [==============================] - 0s 570us/step - loss: 57635.1797 - mean_absolute_error: 57635.1797\n",
      "Epoch 17/30\n",
      "28/28 [==============================] - 0s 534us/step - loss: 57333.2773 - mean_absolute_error: 57333.2773\n",
      "Epoch 18/30\n",
      "28/28 [==============================] - 0s 605us/step - loss: 57088.3594 - mean_absolute_error: 57088.3594\n",
      "Epoch 19/30\n",
      "28/28 [==============================] - 0s 570us/step - loss: 56872.6289 - mean_absolute_error: 56872.6289\n",
      "Epoch 20/30\n",
      "28/28 [==============================] - 0s 570us/step - loss: 56655.1914 - mean_absolute_error: 56655.1914\n",
      "Epoch 21/30\n",
      "28/28 [==============================] - 0s 499us/step - loss: 56440.2383 - mean_absolute_error: 56440.2383\n",
      "Epoch 22/30\n",
      "28/28 [==============================] - 0s 534us/step - loss: 56219.3320 - mean_absolute_error: 56219.3320\n",
      "Epoch 23/30\n",
      "28/28 [==============================] - 0s 534us/step - loss: 56037.3594 - mean_absolute_error: 56037.3594\n",
      "Epoch 24/30\n",
      "28/28 [==============================] - 0s 570us/step - loss: 55812.3086 - mean_absolute_error: 55812.3086\n",
      "Epoch 25/30\n",
      "28/28 [==============================] - 0s 570us/step - loss: 55634.8047 - mean_absolute_error: 55634.8047\n",
      "Epoch 26/30\n",
      "28/28 [==============================] - 0s 499us/step - loss: 55446.2578 - mean_absolute_error: 55446.2578\n",
      "Epoch 27/30\n",
      "28/28 [==============================] - 0s 534us/step - loss: 55287.0039 - mean_absolute_error: 55287.0039\n",
      "Epoch 28/30\n",
      "28/28 [==============================] - 0s 534us/step - loss: 55093.4844 - mean_absolute_error: 55093.4844\n",
      "Epoch 29/30\n",
      "28/28 [==============================] - 0s 534us/step - loss: 54943.8438 - mean_absolute_error: 54943.8438\n",
      "Epoch 30/30\n",
      "28/28 [==============================] - 0s 570us/step - loss: 54770.2305 - mean_absolute_error: 54770.2383\n",
      "11/11 [==============================] - 0s 545us/step - loss: 49416.7773 - mean_absolute_error: 49416.7773\n",
      "\n",
      "mean_absolute_error: 4941677.73%\n"
     ]
    }
   ],
   "source": [
    "# Step 1: Build the model\n",
    "model1 = Sequential()\n",
    "#Input leyer\n",
    "model1.add(Dense(126, input_dim = 26, activation = 'relu'))\n",
    "#Hidden layer\n",
    "model1.add(Dense(50, activation = 'relu'))\n",
    "model1.add(Dense(25, activation = 'relu'))\n",
    "#Output layer\n",
    "model1.add(Dense(1, kernel_initializer='normal'))\n",
    "\n",
    "# Step 2: Build the computational graph - compile\n",
    "model1.compile(loss = 'mean_absolute_error', optimizer = 'adam', metrics = ['mean_absolute_error'])\n",
    "\n",
    "# Step 3: Train the model\n",
    "model1.fit(X_train, Y_train, epochs = 30, batch_size = 50)\n",
    "scores = model1.evaluate(X_test, Y_test)\n",
    "print(\"\\n%s: %.2f%%\" % (model1.metrics_names[1], scores[1]*100))\n",
    "\n",
    "from sklearn.metrics import r2_score, recall_score, precision_score\n",
    "\n"
   ]
  },
  {
   "cell_type": "code",
   "execution_count": 57,
   "metadata": {},
   "outputs": [
    {
     "name": "stdout",
     "output_type": "stream",
     "text": [
      "Train score: 0.37\n",
      "Test score: 0.45\n"
     ]
    }
   ],
   "source": [
    "Y_train_predict = model1.predict(X_train)\n",
    "Y_test_predict = model1.predict(X_test)\n",
    "\n",
    "print('Train score: {:.2f}'.format(r2_score(Y_train, Y_train_predict)))\n",
    "print('Test score: {:.2f}'.format(r2_score(Y_test, Y_test_predict)))\n"
   ]
  },
  {
   "cell_type": "code",
   "execution_count": null,
   "metadata": {},
   "outputs": [],
   "source": []
  }
 ],
 "metadata": {
  "kernelspec": {
   "display_name": "Python 3",
   "language": "python",
   "name": "python3"
  },
  "language_info": {
   "codemirror_mode": {
    "name": "ipython",
    "version": 3
   },
   "file_extension": ".py",
   "mimetype": "text/x-python",
   "name": "python",
   "nbconvert_exporter": "python",
   "pygments_lexer": "ipython3",
   "version": "3.8.3"
  }
 },
 "nbformat": 4,
 "nbformat_minor": 2
}
